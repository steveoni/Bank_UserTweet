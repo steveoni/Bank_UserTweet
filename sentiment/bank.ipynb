{
 "cells": [
  {
   "cell_type": "code",
   "execution_count": null,
   "metadata": {
    "colab": {},
    "colab_type": "code",
    "id": "K1WuPQoETN1m"
   },
   "outputs": [],
   "source": [
    "from fastai.text import *\n",
    "from fastai import *"
   ]
  },
  {
   "cell_type": "code",
   "execution_count": 24,
   "metadata": {
    "colab": {
     "base_uri": "https://localhost:8080/",
     "height": 204
    },
    "colab_type": "code",
    "executionInfo": {
     "elapsed": 3866,
     "status": "ok",
     "timestamp": 1555889631085,
     "user": {
      "displayName": "oni Stephen",
      "photoUrl": "",
      "userId": "03308598618956024543"
     },
     "user_tz": -60
    },
    "id": "7b0tRBTITN1p",
    "outputId": "f655788a-6b21-480b-c64c-85ab31f37426"
   },
   "outputs": [
    {
     "data": {
      "text/html": [
       "<div>\n",
       "<style scoped>\n",
       "    .dataframe tbody tr th:only-of-type {\n",
       "        vertical-align: middle;\n",
       "    }\n",
       "\n",
       "    .dataframe tbody tr th {\n",
       "        vertical-align: top;\n",
       "    }\n",
       "\n",
       "    .dataframe thead th {\n",
       "        text-align: right;\n",
       "    }\n",
       "</style>\n",
       "<table border=\"1\" class=\"dataframe\">\n",
       "  <thead>\n",
       "    <tr style=\"text-align: right;\">\n",
       "      <th></th>\n",
       "      <th>tweet</th>\n",
       "      <th>sentiment</th>\n",
       "      <th>date</th>\n",
       "      <th>weekday</th>\n",
       "      <th>hour</th>\n",
       "      <th>followers</th>\n",
       "      <th>description</th>\n",
       "    </tr>\n",
       "  </thead>\n",
       "  <tbody>\n",
       "    <tr>\n",
       "      <th>0</th>\n",
       "      <td>because they answered you doesnt mean they are...</td>\n",
       "      <td>0</td>\n",
       "      <td>2019-03-06 05:15:05</td>\n",
       "      <td>2.0</td>\n",
       "      <td>5.0</td>\n",
       "      <td>521.0</td>\n",
       "      <td>arab academy alumni  member of the nautical in...</td>\n",
       "    </tr>\n",
       "    <tr>\n",
       "      <th>1</th>\n",
       "      <td>because they answered you doesnt mean they are...</td>\n",
       "      <td>0</td>\n",
       "      <td>2019-03-06 05:15:05</td>\n",
       "      <td>2.0</td>\n",
       "      <td>5.0</td>\n",
       "      <td>521.0</td>\n",
       "      <td>arab academy alumni  member of the nautical in...</td>\n",
       "    </tr>\n",
       "    <tr>\n",
       "      <th>2</th>\n",
       "      <td>there you have it</td>\n",
       "      <td>0</td>\n",
       "      <td>2019-03-06 05:03:39</td>\n",
       "      <td>2.0</td>\n",
       "      <td>5.0</td>\n",
       "      <td>708.0</td>\n",
       "      <td>without christs mercy my life is messychartere...</td>\n",
       "    </tr>\n",
       "    <tr>\n",
       "      <th>3</th>\n",
       "      <td>ok i understand and i also have some questions...</td>\n",
       "      <td>0</td>\n",
       "      <td>2019-03-06 05:01:35</td>\n",
       "      <td>2.0</td>\n",
       "      <td>5.0</td>\n",
       "      <td>1949.0</td>\n",
       "      <td>am a blogger pr and also a music producer</td>\n",
       "    </tr>\n",
       "    <tr>\n",
       "      <th>4</th>\n",
       "      <td>i have not been able to use my first bank appl...</td>\n",
       "      <td>1</td>\n",
       "      <td>2019-03-06 04:34:43</td>\n",
       "      <td>2.0</td>\n",
       "      <td>4.0</td>\n",
       "      <td>14.0</td>\n",
       "      <td>principal consultant  green consulting</td>\n",
       "    </tr>\n",
       "  </tbody>\n",
       "</table>\n",
       "</div>"
      ],
      "text/plain": [
       "                                               tweet  sentiment  \\\n",
       "0  because they answered you doesnt mean they are...          0   \n",
       "1  because they answered you doesnt mean they are...          0   \n",
       "2                                  there you have it          0   \n",
       "3  ok i understand and i also have some questions...          0   \n",
       "4  i have not been able to use my first bank appl...          1   \n",
       "\n",
       "                  date  weekday  hour  followers  \\\n",
       "0  2019-03-06 05:15:05      2.0   5.0      521.0   \n",
       "1  2019-03-06 05:15:05      2.0   5.0      521.0   \n",
       "2  2019-03-06 05:03:39      2.0   5.0      708.0   \n",
       "3  2019-03-06 05:01:35      2.0   5.0     1949.0   \n",
       "4  2019-03-06 04:34:43      2.0   4.0       14.0   \n",
       "\n",
       "                                         description  \n",
       "0  arab academy alumni  member of the nautical in...  \n",
       "1  arab academy alumni  member of the nautical in...  \n",
       "2  without christs mercy my life is messychartere...  \n",
       "3          am a blogger pr and also a music producer  \n",
       "4             principal consultant  green consulting  "
      ]
     },
     "execution_count": 24,
     "metadata": {
      "tags": []
     },
     "output_type": "execute_result"
    }
   ],
   "source": [
    "df = pd.read_csv(\"data/bank_data.csv\")\n",
    "df.head()"
   ]
  },
  {
   "cell_type": "code",
   "execution_count": null,
   "metadata": {
    "colab": {},
    "colab_type": "code",
    "id": "_-1_pTs1TN1u"
   },
   "outputs": [],
   "source": [
    "import math"
   ]
  },
  {
   "cell_type": "code",
   "execution_count": null,
   "metadata": {
    "colab": {},
    "colab_type": "code",
    "id": "aWHLNU4aTN14"
   },
   "outputs": [],
   "source": [
    "df_1 = df.loc[:,[\"tweet\",\"sentiment\"]] ##since we only need the tweet and the sentiment"
   ]
  },
  {
   "cell_type": "code",
   "execution_count": null,
   "metadata": {
    "colab": {},
    "colab_type": "code",
    "id": "9jhliWIWTN17"
   },
   "outputs": [],
   "source": [
    "## split the data into  train and validation\n",
    "\n",
    "split = math.floor((len(df_1) - len(df_1)*0.1))\n",
    "train_df = df_1[:split].reset_index()\n",
    "valid_df = df_1[split:].reset_index()"
   ]
  },
  {
   "cell_type": "code",
   "execution_count": null,
   "metadata": {
    "colab": {},
    "colab_type": "code",
    "id": "KOo4FD9LTN19"
   },
   "outputs": [],
   "source": [
    "valid_df.drop(\"index\",axis=1,inplace=True)\n",
    "train_df.drop(\"index\",axis=1,inplace=True)"
   ]
  },
  {
   "cell_type": "code",
   "execution_count": null,
   "metadata": {
    "colab": {},
    "colab_type": "code",
    "id": "6v_8yCNJTN2A"
   },
   "outputs": [],
   "source": [
    "## convert the sentiment from 0 and 1 to positive and negative\n",
    "mm = {\n",
    "    1:\"pos\",\n",
    "    0:\"neg\"\n",
    "}\n",
    "# valid_df[\"label\"] = valid_df[\"sentiment\"].map(mm)\n",
    "# train_df[\"label\"] = train_df[\"sentiment\"].map(mm)\n",
    "\n",
    "df_1[\"label\"] = df_1[\"sentiment\"].map(mm)"
   ]
  },
  {
   "cell_type": "code",
   "execution_count": 28,
   "metadata": {
    "colab": {
     "base_uri": "https://localhost:8080/",
     "height": 204
    },
    "colab_type": "code",
    "executionInfo": {
     "elapsed": 1378,
     "status": "ok",
     "timestamp": 1555889786726,
     "user": {
      "displayName": "oni Stephen",
      "photoUrl": "",
      "userId": "03308598618956024543"
     },
     "user_tz": -60
    },
    "id": "COrAyfV5TN2G",
    "outputId": "c97baa01-7a4d-4d11-830e-f9ef454d325b"
   },
   "outputs": [
    {
     "data": {
      "text/html": [
       "<div>\n",
       "<style scoped>\n",
       "    .dataframe tbody tr th:only-of-type {\n",
       "        vertical-align: middle;\n",
       "    }\n",
       "\n",
       "    .dataframe tbody tr th {\n",
       "        vertical-align: top;\n",
       "    }\n",
       "\n",
       "    .dataframe thead th {\n",
       "        text-align: right;\n",
       "    }\n",
       "</style>\n",
       "<table border=\"1\" class=\"dataframe\">\n",
       "  <thead>\n",
       "    <tr style=\"text-align: right;\">\n",
       "      <th></th>\n",
       "      <th>tweet</th>\n",
       "      <th>label</th>\n",
       "    </tr>\n",
       "  </thead>\n",
       "  <tbody>\n",
       "    <tr>\n",
       "      <th>0</th>\n",
       "      <td>because they answered you doesnt mean they are...</td>\n",
       "      <td>neg</td>\n",
       "    </tr>\n",
       "    <tr>\n",
       "      <th>1</th>\n",
       "      <td>because they answered you doesnt mean they are...</td>\n",
       "      <td>neg</td>\n",
       "    </tr>\n",
       "    <tr>\n",
       "      <th>2</th>\n",
       "      <td>there you have it</td>\n",
       "      <td>neg</td>\n",
       "    </tr>\n",
       "    <tr>\n",
       "      <th>3</th>\n",
       "      <td>ok i understand and i also have some questions...</td>\n",
       "      <td>neg</td>\n",
       "    </tr>\n",
       "    <tr>\n",
       "      <th>4</th>\n",
       "      <td>i have not been able to use my first bank appl...</td>\n",
       "      <td>pos</td>\n",
       "    </tr>\n",
       "  </tbody>\n",
       "</table>\n",
       "</div>"
      ],
      "text/plain": [
       "                                               tweet label\n",
       "0  because they answered you doesnt mean they are...   neg\n",
       "1  because they answered you doesnt mean they are...   neg\n",
       "2                                  there you have it   neg\n",
       "3  ok i understand and i also have some questions...   neg\n",
       "4  i have not been able to use my first bank appl...   pos"
      ]
     },
     "execution_count": 28,
     "metadata": {
      "tags": []
     },
     "output_type": "execute_result"
    }
   ],
   "source": [
    "# valid_df.drop(\"sentiment\",axis=1,inplace=True)\n",
    "# train_df.drop(\"sentiment\",axis=1,inplace=True)\n",
    "df_1.drop(\"sentiment\",axis=1,inplace=True)\n",
    "df_1.head()"
   ]
  },
  {
   "cell_type": "code",
   "execution_count": null,
   "metadata": {
    "colab": {
     "base_uri": "https://localhost:8080/",
     "height": 204
    },
    "colab_type": "code",
    "executionInfo": {
     "elapsed": 759,
     "status": "ok",
     "timestamp": 1555203621547,
     "user": {
      "displayName": "oni Stephen",
      "photoUrl": "",
      "userId": "03308598618956024543"
     },
     "user_tz": -60
    },
    "id": "FrNmtPMDTN2J",
    "outputId": "d9f8ad2c-8333-4273-fa4c-b127278b0069"
   },
   "outputs": [
    {
     "data": {
      "text/html": [
       "<div>\n",
       "<style scoped>\n",
       "    .dataframe tbody tr th:only-of-type {\n",
       "        vertical-align: middle;\n",
       "    }\n",
       "\n",
       "    .dataframe tbody tr th {\n",
       "        vertical-align: top;\n",
       "    }\n",
       "\n",
       "    .dataframe thead th {\n",
       "        text-align: right;\n",
       "    }\n",
       "</style>\n",
       "<table border=\"1\" class=\"dataframe\">\n",
       "  <thead>\n",
       "    <tr style=\"text-align: right;\">\n",
       "      <th></th>\n",
       "      <th>tweet</th>\n",
       "      <th>label</th>\n",
       "    </tr>\n",
       "  </thead>\n",
       "  <tbody>\n",
       "    <tr>\n",
       "      <th>0</th>\n",
       "      <td>fed govt  managed by    amp  is turning to be ...</td>\n",
       "      <td>neg</td>\n",
       "    </tr>\n",
       "    <tr>\n",
       "      <th>1</th>\n",
       "      <td>whats your procedure to report banks defaultin...</td>\n",
       "      <td>pos</td>\n",
       "    </tr>\n",
       "    <tr>\n",
       "      <th>2</th>\n",
       "      <td>is really toying with meanyway ive sent you pe...</td>\n",
       "      <td>pos</td>\n",
       "    </tr>\n",
       "    <tr>\n",
       "      <th>3</th>\n",
       "      <td>guys have left me no choice but to make an off...</td>\n",
       "      <td>pos</td>\n",
       "    </tr>\n",
       "    <tr>\n",
       "      <th>4</th>\n",
       "      <td>our  workshop didnt have as many attendees as ...</td>\n",
       "      <td>neg</td>\n",
       "    </tr>\n",
       "  </tbody>\n",
       "</table>\n",
       "</div>"
      ],
      "text/plain": [
       "                                               tweet label\n",
       "0  fed govt  managed by    amp  is turning to be ...   neg\n",
       "1  whats your procedure to report banks defaultin...   pos\n",
       "2  is really toying with meanyway ive sent you pe...   pos\n",
       "3  guys have left me no choice but to make an off...   pos\n",
       "4  our  workshop didnt have as many attendees as ...   neg"
      ]
     },
     "execution_count": 43,
     "metadata": {
      "tags": []
     },
     "output_type": "execute_result"
    }
   ],
   "source": [
    "valid_df.head()"
   ]
  },
  {
   "cell_type": "code",
   "execution_count": null,
   "metadata": {
    "colab": {},
    "colab_type": "code",
    "id": "i7DJa3yMhLk-"
   },
   "outputs": [],
   "source": [
    "## remove the nan rows\n",
    "d = df_1.isna().iloc[:,0] ==True\n",
    "f = d[d]\n",
    "dd = list(f.index)\n",
    "df_1.drop(dd,axis=0,inplace=True)"
   ]
  },
  {
   "cell_type": "code",
   "execution_count": 31,
   "metadata": {
    "colab": {
     "base_uri": "https://localhost:8080/",
     "height": 204
    },
    "colab_type": "code",
    "executionInfo": {
     "elapsed": 1149,
     "status": "ok",
     "timestamp": 1555889844267,
     "user": {
      "displayName": "oni Stephen",
      "photoUrl": "",
      "userId": "03308598618956024543"
     },
     "user_tz": -60
    },
    "id": "9NQubSnyQsgV",
    "outputId": "28127448-a17f-4f41-cade-59b909ff2ec0"
   },
   "outputs": [
    {
     "data": {
      "text/html": [
       "<div>\n",
       "<style scoped>\n",
       "    .dataframe tbody tr th:only-of-type {\n",
       "        vertical-align: middle;\n",
       "    }\n",
       "\n",
       "    .dataframe tbody tr th {\n",
       "        vertical-align: top;\n",
       "    }\n",
       "\n",
       "    .dataframe thead th {\n",
       "        text-align: right;\n",
       "    }\n",
       "</style>\n",
       "<table border=\"1\" class=\"dataframe\">\n",
       "  <thead>\n",
       "    <tr style=\"text-align: right;\">\n",
       "      <th></th>\n",
       "      <th>tweet</th>\n",
       "      <th>label</th>\n",
       "    </tr>\n",
       "  </thead>\n",
       "  <tbody>\n",
       "    <tr>\n",
       "      <th>0</th>\n",
       "      <td>because they answered you doesnt mean they are...</td>\n",
       "      <td>neg</td>\n",
       "    </tr>\n",
       "    <tr>\n",
       "      <th>1</th>\n",
       "      <td>because they answered you doesnt mean they are...</td>\n",
       "      <td>neg</td>\n",
       "    </tr>\n",
       "    <tr>\n",
       "      <th>2</th>\n",
       "      <td>there you have it</td>\n",
       "      <td>neg</td>\n",
       "    </tr>\n",
       "    <tr>\n",
       "      <th>3</th>\n",
       "      <td>ok i understand and i also have some questions...</td>\n",
       "      <td>neg</td>\n",
       "    </tr>\n",
       "    <tr>\n",
       "      <th>4</th>\n",
       "      <td>i have not been able to use my first bank appl...</td>\n",
       "      <td>pos</td>\n",
       "    </tr>\n",
       "  </tbody>\n",
       "</table>\n",
       "</div>"
      ],
      "text/plain": [
       "                                               tweet label\n",
       "0  because they answered you doesnt mean they are...   neg\n",
       "1  because they answered you doesnt mean they are...   neg\n",
       "2                                  there you have it   neg\n",
       "3  ok i understand and i also have some questions...   neg\n",
       "4  i have not been able to use my first bank appl...   pos"
      ]
     },
     "execution_count": 31,
     "metadata": {
      "tags": []
     },
     "output_type": "execute_result"
    }
   ],
   "source": [
    "df_1.head()"
   ]
  },
  {
   "cell_type": "code",
   "execution_count": null,
   "metadata": {
    "colab": {},
    "colab_type": "code",
    "id": "KXzQqK3JhzxR"
   },
   "outputs": [],
   "source": [
    "df_2 = df_1.copy()\n",
    "df_2.drop(\"sentiment\",axis=1,inplace=True)"
   ]
  },
  {
   "cell_type": "code",
   "execution_count": null,
   "metadata": {
    "colab": {},
    "colab_type": "code",
    "id": "Ip0mj9pJc1B3"
   },
   "outputs": [],
   "source": [
    "bs=30"
   ]
  },
  {
   "cell_type": "code",
   "execution_count": null,
   "metadata": {},
   "outputs": [],
   "source": [
    "path = \"data\""
   ]
  },
  {
   "cell_type": "markdown",
   "metadata": {},
   "source": [
    "create a data bunch of a specific batch size for the text file\n",
    "then the data is split into train and validation set of 10%. Other text preprocessing are done like removing the rare words"
   ]
  },
  {
   "cell_type": "code",
   "execution_count": null,
   "metadata": {
    "colab": {},
    "colab_type": "code",
    "id": "hTPa1-22TN2W"
   },
   "outputs": [],
   "source": [
    "\n",
    "data_m = (TextList.from_df(df_1,path=path)\n",
    "          .random_split_by_pct(0.1)\n",
    "          .label_for_lm()\n",
    "          .databunch(bs=bs)\n",
    "         )"
   ]
  },
  {
   "cell_type": "code",
   "execution_count": null,
   "metadata": {
    "colab": {},
    "colab_type": "code",
    "id": "CWY8ph59gl0r"
   },
   "outputs": [],
   "source": [
    "data_m.save('tmp_lm') ##save the token and words"
   ]
  },
  {
   "cell_type": "code",
   "execution_count": 34,
   "metadata": {
    "colab": {
     "base_uri": "https://localhost:8080/",
     "height": 34
    },
    "colab_type": "code",
    "executionInfo": {
     "elapsed": 2719,
     "status": "ok",
     "timestamp": 1555889932176,
     "user": {
      "displayName": "oni Stephen",
      "photoUrl": "",
      "userId": "03308598618956024543"
     },
     "user_tz": -60
    },
    "id": "UNO_5EAhieR1",
    "outputId": "a8147b60-b809-436e-a37f-cbdaf105292c"
   },
   "outputs": [
    {
     "data": {
      "text/plain": [
       "PosixPath('drive/bank-sentiment')"
      ]
     },
     "execution_count": 34,
     "metadata": {
      "tags": []
     },
     "output_type": "execute_result"
    }
   ],
   "source": [
    "data_m.path"
   ]
  },
  {
   "cell_type": "code",
   "execution_count": null,
   "metadata": {
    "colab": {},
    "colab_type": "code",
    "id": "nVbmOAuzirOt"
   },
   "outputs": [],
   "source": [
    "data_m = load_data(path, 'tmp_lm', bs=bs)"
   ]
  },
  {
   "cell_type": "code",
   "execution_count": 36,
   "metadata": {
    "colab": {
     "base_uri": "https://localhost:8080/",
     "height": 289
    },
    "colab_type": "code",
    "executionInfo": {
     "elapsed": 1310,
     "status": "ok",
     "timestamp": 1555889957941,
     "user": {
      "displayName": "oni Stephen",
      "photoUrl": "",
      "userId": "03308598618956024543"
     },
     "user_tz": -60
    },
    "id": "qxHAdBRqfuzV",
    "outputId": "45020719-4e28-473d-9557-a5b8795956a6"
   },
   "outputs": [
    {
     "data": {
      "text/html": [
       "<table border=\"1\" class=\"dataframe\">\n",
       "  <thead>\n",
       "    <tr style=\"text-align: right;\">\n",
       "      <th>idx</th>\n",
       "      <th>text</th>\n",
       "    </tr>\n",
       "  </thead>\n",
       "  <tbody>\n",
       "    <tr>\n",
       "      <td>0</td>\n",
       "      <td>to use my first bank application the response i got is network error which is not xxbos i recharged a number i was debited but the transaction was not a successful one can i be refunded as soon as possible xxbos thanks i ve confirmed it xxbos pls is it possible to reactivate my dormant acct online perhaps what s d way to xxbos i have already gotten an email</td>\n",
       "    </tr>\n",
       "    <tr>\n",
       "      <td>1</td>\n",
       "      <td>3weeks now they ai nt doing nothing in your branches xxunk been to ur xxbos i try to load airtime of 3500 from my account this morning using code 894 unfortunately i was debited w xxbos good afternoon i was having xxunk naira in my account then someone sent 1500 into my account which is s xxbos any news xxbos here is the xxunk from the alert xxbos good morning</td>\n",
       "    </tr>\n",
       "    <tr>\n",
       "      <td>2</td>\n",
       "      <td>for over 48hrs now no response xxbos good evening i made some transfer on the 1st of this month but the person i transfer the money to is yet xxbos account name xxunk xxunk account number xxunk of xxunk and 400 was debited from m xxbos i transfer money to gtbank three times on saturday till now did nt deliver and xxbos i have sent you several messages on this</td>\n",
       "    </tr>\n",
       "    <tr>\n",
       "      <td>3</td>\n",
       "      <td>in one trouble with xxbos please i have been xxunk with my account which i created on the phone and deposited some amount of mo xxbos please you people should attend to this nonsense make e for no cause fight o i m talking small small now xxbos i m literally tired i mean is nt nigeria hard enough xxunk xxbos i have been waiting for the money to be</td>\n",
       "    </tr>\n",
       "    <tr>\n",
       "      <td>4</td>\n",
       "      <td>and money have been deducted and airtime have not been given xxbos good morning please i want my card to xxunk web or online payment for example like being able to pay xxbos the problem now is the app is not even working on my phone xxbos i did a airtime transfer to a person and he was not credited and did not get a xxunk over 24hrs xxbos if</td>\n",
       "    </tr>\n",
       "  </tbody>\n",
       "</table>"
      ],
      "text/plain": [
       "<IPython.core.display.HTML object>"
      ]
     },
     "metadata": {
      "tags": []
     },
     "output_type": "display_data"
    }
   ],
   "source": [
    "data_m.show_batch()"
   ]
  },
  {
   "cell_type": "markdown",
   "metadata": {},
   "source": [
    "## Model using Fastai ULMFIT\n",
    "The process involve training a language model on a corpus like wikitext103 and the language model is fintuned to create a language model for our specific task data and then the language model built is used to enhance our model classification of text using transfer learning. The process is achieved with different techniques like **descriminative learning rate**, **slanten triangular learning rate** and **model freezing and unfreezing**"
   ]
  },
  {
   "cell_type": "markdown",
   "metadata": {},
   "source": [
    "### Language Model finetuning"
   ]
  },
  {
   "cell_type": "code",
   "execution_count": null,
   "metadata": {
    "colab": {},
    "colab_type": "code",
    "id": "1vDu6ZsrjRvq"
   },
   "outputs": [],
   "source": [
    "learn = language_model_learner(data_m, arch=AWD_LSTM, drop_mult=0.3)"
   ]
  },
  {
   "cell_type": "code",
   "execution_count": 38,
   "metadata": {
    "colab": {
     "base_uri": "https://localhost:8080/",
     "height": 34
    },
    "colab_type": "code",
    "executionInfo": {
     "elapsed": 31187,
     "status": "ok",
     "timestamp": 1555890017129,
     "user": {
      "displayName": "oni Stephen",
      "photoUrl": "",
      "userId": "03308598618956024543"
     },
     "user_tz": -60
    },
    "id": "WCin4eWijc2h",
    "outputId": "1ad7409f-1678-4c9b-ba36-97f854247be8"
   },
   "outputs": [
    {
     "data": {
      "text/html": [],
      "text/plain": [
       "<IPython.core.display.HTML object>"
      ]
     },
     "metadata": {
      "tags": []
     },
     "output_type": "display_data"
    },
    {
     "name": "stdout",
     "output_type": "stream",
     "text": [
      "LR Finder is complete, type {learner_name}.recorder.plot() to see the graph.\n"
     ]
    }
   ],
   "source": [
    "learn.lr_find()"
   ]
  },
  {
   "cell_type": "code",
   "execution_count": 39,
   "metadata": {
    "colab": {
     "base_uri": "https://localhost:8080/",
     "height": 283
    },
    "colab_type": "code",
    "executionInfo": {
     "elapsed": 2987,
     "status": "ok",
     "timestamp": 1555890021852,
     "user": {
      "displayName": "oni Stephen",
      "photoUrl": "",
      "userId": "03308598618956024543"
     },
     "user_tz": -60
    },
    "id": "XtHhrjUnji15",
    "outputId": "16f5427d-b78d-4848-dc16-dc0296f46da0"
   },
   "outputs": [
    {
     "data": {
      "image/png": "[encoded data removed]",
      "text/plain": [
       "<Figure size 432x288 with 1 Axes>"
      ]
     },
     "metadata": {
      "tags": []
     },
     "output_type": "display_data"
    }
   ],
   "source": [
    "learn.recorder.plot(skip_end=15)"
   ]
  },
  {
   "cell_type": "code",
   "execution_count": 42,
   "metadata": {
    "colab": {
     "base_uri": "https://localhost:8080/",
     "height": 80
    },
    "colab_type": "code",
    "executionInfo": {
     "elapsed": 8216,
     "status": "ok",
     "timestamp": 1555890080212,
     "user": {
      "displayName": "oni Stephen",
      "photoUrl": "",
      "userId": "03308598618956024543"
     },
     "user_tz": -60
    },
    "id": "Ijhxyej4lajD",
    "outputId": "4325c3f2-dbf5-4a56-f3a2-bc9e782188f1"
   },
   "outputs": [
    {
     "data": {
      "text/html": [
       "<table border=\"1\" class=\"dataframe\">\n",
       "  <thead>\n",
       "    <tr style=\"text-align: left;\">\n",
       "      <th>epoch</th>\n",
       "      <th>train_loss</th>\n",
       "      <th>valid_loss</th>\n",
       "      <th>accuracy</th>\n",
       "      <th>time</th>\n",
       "    </tr>\n",
       "  </thead>\n",
       "  <tbody>\n",
       "    <tr>\n",
       "      <td>0</td>\n",
       "      <td>5.000896</td>\n",
       "      <td>4.323910</td>\n",
       "      <td>0.220159</td>\n",
       "      <td>00:06</td>\n",
       "    </tr>\n",
       "  </tbody>\n",
       "</table>"
      ],
      "text/plain": [
       "<IPython.core.display.HTML object>"
      ]
     },
     "metadata": {
      "tags": []
     },
     "output_type": "display_data"
    }
   ],
   "source": [
    "learn.fit_one_cycle(1, max_lr=slice(1e-3,1e-1), moms=(0.8,0.7))"
   ]
  },
  {
   "cell_type": "code",
   "execution_count": null,
   "metadata": {
    "colab": {},
    "colab_type": "code",
    "id": "_jeGJOrylney"
   },
   "outputs": [],
   "source": [
    "learn.save('fit_head')"
   ]
  },
  {
   "cell_type": "code",
   "execution_count": null,
   "metadata": {
    "colab": {},
    "colab_type": "code",
    "id": "HgnF3hJ3olW0"
   },
   "outputs": [],
   "source": [
    "learn.load('fit_head');"
   ]
  },
  {
   "cell_type": "code",
   "execution_count": 45,
   "metadata": {
    "colab": {
     "base_uri": "https://localhost:8080/",
     "height": 300
    },
    "colab_type": "code",
    "executionInfo": {
     "elapsed": 25786,
     "status": "ok",
     "timestamp": 1555890187739,
     "user": {
      "displayName": "oni Stephen",
      "photoUrl": "",
      "userId": "03308598618956024543"
     },
     "user_tz": -60
    },
    "id": "bEw3wUsCow-9",
    "outputId": "4c57b7bf-1843-4192-e15d-63e1ec5180b2"
   },
   "outputs": [
    {
     "data": {
      "text/html": [],
      "text/plain": [
       "<IPython.core.display.HTML object>"
      ]
     },
     "metadata": {
      "tags": []
     },
     "output_type": "display_data"
    },
    {
     "name": "stdout",
     "output_type": "stream",
     "text": [
      "LR Finder is complete, type {learner_name}.recorder.plot() to see the graph.\n"
     ]
    },
    {
     "data": {
      "image/png": "[encoded data removed]",
      "text/plain": [
       "<Figure size 432x288 with 1 Axes>"
      ]
     },
     "metadata": {
      "tags": []
     },
     "output_type": "display_data"
    }
   ],
   "source": [
    "learn.lr_find()\n",
    "learn.recorder.plot(skip_end=15)"
   ]
  },
  {
   "cell_type": "code",
   "execution_count": null,
   "metadata": {
    "colab": {},
    "colab_type": "code",
    "id": "eRN81QnYpDRd"
   },
   "outputs": [],
   "source": [
    "learn.unfreeze()"
   ]
  },
  {
   "cell_type": "code",
   "execution_count": 51,
   "metadata": {
    "colab": {
     "base_uri": "https://localhost:8080/",
     "height": 300
    },
    "colab_type": "code",
    "executionInfo": {
     "elapsed": 29726,
     "status": "ok",
     "timestamp": 1555890717856,
     "user": {
      "displayName": "oni Stephen",
      "photoUrl": "",
      "userId": "03308598618956024543"
     },
     "user_tz": -60
    },
    "id": "ynnyChpcSM3X",
    "outputId": "d55b94ad-4c8c-4e69-acb2-2839ea5ede09"
   },
   "outputs": [
    {
     "data": {
      "text/html": [],
      "text/plain": [
       "<IPython.core.display.HTML object>"
      ]
     },
     "metadata": {
      "tags": []
     },
     "output_type": "display_data"
    },
    {
     "name": "stdout",
     "output_type": "stream",
     "text": [
      "LR Finder is complete, type {learner_name}.recorder.plot() to see the graph.\n"
     ]
    },
    {
     "data": {
      "image/png": "[encoded data removed]",
      "text/plain": [
       "<Figure size 432x288 with 1 Axes>"
      ]
     },
     "metadata": {
      "tags": []
     },
     "output_type": "display_data"
    }
   ],
   "source": [
    "learn.lr_find()\n",
    "learn.recorder.plot(skip_end=15)"
   ]
  },
  {
   "cell_type": "code",
   "execution_count": 52,
   "metadata": {
    "colab": {
     "base_uri": "https://localhost:8080/",
     "height": 669
    },
    "colab_type": "code",
    "executionInfo": {
     "elapsed": 150357,
     "status": "ok",
     "timestamp": 1555890881078,
     "user": {
      "displayName": "oni Stephen",
      "photoUrl": "",
      "userId": "03308598618956024543"
     },
     "user_tz": -60
    },
    "id": "hs6OQABJpTDX",
    "outputId": "2885b8f6-3be4-4bfc-c547-ba27879aa010"
   },
   "outputs": [
    {
     "data": {
      "text/html": [
       "<table border=\"1\" class=\"dataframe\">\n",
       "  <thead>\n",
       "    <tr style=\"text-align: left;\">\n",
       "      <th>epoch</th>\n",
       "      <th>train_loss</th>\n",
       "      <th>valid_loss</th>\n",
       "      <th>accuracy</th>\n",
       "      <th>time</th>\n",
       "    </tr>\n",
       "  </thead>\n",
       "  <tbody>\n",
       "    <tr>\n",
       "      <td>0</td>\n",
       "      <td>4.183439</td>\n",
       "      <td>4.259485</td>\n",
       "      <td>0.226032</td>\n",
       "      <td>00:07</td>\n",
       "    </tr>\n",
       "    <tr>\n",
       "      <td>1</td>\n",
       "      <td>4.100864</td>\n",
       "      <td>4.162446</td>\n",
       "      <td>0.237063</td>\n",
       "      <td>00:07</td>\n",
       "    </tr>\n",
       "    <tr>\n",
       "      <td>2</td>\n",
       "      <td>3.980720</td>\n",
       "      <td>4.071305</td>\n",
       "      <td>0.246190</td>\n",
       "      <td>00:07</td>\n",
       "    </tr>\n",
       "    <tr>\n",
       "      <td>3</td>\n",
       "      <td>3.836182</td>\n",
       "      <td>3.988719</td>\n",
       "      <td>0.253889</td>\n",
       "      <td>00:07</td>\n",
       "    </tr>\n",
       "    <tr>\n",
       "      <td>4</td>\n",
       "      <td>3.644904</td>\n",
       "      <td>3.949925</td>\n",
       "      <td>0.265079</td>\n",
       "      <td>00:07</td>\n",
       "    </tr>\n",
       "    <tr>\n",
       "      <td>5</td>\n",
       "      <td>3.446592</td>\n",
       "      <td>3.928688</td>\n",
       "      <td>0.267143</td>\n",
       "      <td>00:07</td>\n",
       "    </tr>\n",
       "    <tr>\n",
       "      <td>6</td>\n",
       "      <td>3.204629</td>\n",
       "      <td>3.971375</td>\n",
       "      <td>0.273016</td>\n",
       "      <td>00:07</td>\n",
       "    </tr>\n",
       "    <tr>\n",
       "      <td>7</td>\n",
       "      <td>2.958275</td>\n",
       "      <td>4.009604</td>\n",
       "      <td>0.278968</td>\n",
       "      <td>00:07</td>\n",
       "    </tr>\n",
       "    <tr>\n",
       "      <td>8</td>\n",
       "      <td>2.729325</td>\n",
       "      <td>4.051416</td>\n",
       "      <td>0.278571</td>\n",
       "      <td>00:07</td>\n",
       "    </tr>\n",
       "    <tr>\n",
       "      <td>9</td>\n",
       "      <td>2.508374</td>\n",
       "      <td>4.125082</td>\n",
       "      <td>0.279127</td>\n",
       "      <td>00:07</td>\n",
       "    </tr>\n",
       "    <tr>\n",
       "      <td>10</td>\n",
       "      <td>2.324455</td>\n",
       "      <td>4.199234</td>\n",
       "      <td>0.285079</td>\n",
       "      <td>00:07</td>\n",
       "    </tr>\n",
       "    <tr>\n",
       "      <td>11</td>\n",
       "      <td>2.144263</td>\n",
       "      <td>4.248294</td>\n",
       "      <td>0.290079</td>\n",
       "      <td>00:07</td>\n",
       "    </tr>\n",
       "    <tr>\n",
       "      <td>12</td>\n",
       "      <td>1.979666</td>\n",
       "      <td>4.309391</td>\n",
       "      <td>0.286667</td>\n",
       "      <td>00:07</td>\n",
       "    </tr>\n",
       "    <tr>\n",
       "      <td>13</td>\n",
       "      <td>1.835910</td>\n",
       "      <td>4.364272</td>\n",
       "      <td>0.290159</td>\n",
       "      <td>00:07</td>\n",
       "    </tr>\n",
       "    <tr>\n",
       "      <td>14</td>\n",
       "      <td>1.733587</td>\n",
       "      <td>4.398985</td>\n",
       "      <td>0.287619</td>\n",
       "      <td>00:07</td>\n",
       "    </tr>\n",
       "    <tr>\n",
       "      <td>15</td>\n",
       "      <td>1.667639</td>\n",
       "      <td>4.416637</td>\n",
       "      <td>0.290000</td>\n",
       "      <td>00:07</td>\n",
       "    </tr>\n",
       "    <tr>\n",
       "      <td>16</td>\n",
       "      <td>1.589146</td>\n",
       "      <td>4.444491</td>\n",
       "      <td>0.291111</td>\n",
       "      <td>00:07</td>\n",
       "    </tr>\n",
       "    <tr>\n",
       "      <td>17</td>\n",
       "      <td>1.547572</td>\n",
       "      <td>4.452191</td>\n",
       "      <td>0.291190</td>\n",
       "      <td>00:07</td>\n",
       "    </tr>\n",
       "    <tr>\n",
       "      <td>18</td>\n",
       "      <td>1.531061</td>\n",
       "      <td>4.460046</td>\n",
       "      <td>0.289524</td>\n",
       "      <td>00:07</td>\n",
       "    </tr>\n",
       "    <tr>\n",
       "      <td>19</td>\n",
       "      <td>1.503826</td>\n",
       "      <td>4.459020</td>\n",
       "      <td>0.289921</td>\n",
       "      <td>00:07</td>\n",
       "    </tr>\n",
       "  </tbody>\n",
       "</table>"
      ],
      "text/plain": [
       "<IPython.core.display.HTML object>"
      ]
     },
     "metadata": {
      "tags": []
     },
     "output_type": "display_data"
    }
   ],
   "source": [
    "learn.fit_one_cycle(20, max_lr=slice(1e-4,1e-2), moms=(0.8,0.7))"
   ]
  },
  {
   "cell_type": "code",
   "execution_count": null,
   "metadata": {
    "colab": {},
    "colab_type": "code",
    "id": "Fbpem3HopdqY"
   },
   "outputs": [],
   "source": [
    "learn.save('fine_tuned')"
   ]
  },
  {
   "cell_type": "code",
   "execution_count": null,
   "metadata": {
    "colab": {},
    "colab_type": "code",
    "id": "U4_TXDO-qI4K"
   },
   "outputs": [],
   "source": [
    "learn.load('fine_tuned');"
   ]
  },
  {
   "cell_type": "code",
   "execution_count": null,
   "metadata": {
    "colab": {},
    "colab_type": "code",
    "id": "HqQ5PMgwqPHa"
   },
   "outputs": [],
   "source": [
    "TEXT = \"please check\"\n",
    "N_WORDS = 5\n",
    "N_SENTENCES = 2"
   ]
  },
  {
   "cell_type": "markdown",
   "metadata": {},
   "source": [
    "test how good the model is"
   ]
  },
  {
   "cell_type": "code",
   "execution_count": 56,
   "metadata": {
    "colab": {
     "base_uri": "https://localhost:8080/",
     "height": 51
    },
    "colab_type": "code",
    "executionInfo": {
     "elapsed": 3434,
     "status": "ok",
     "timestamp": 1555891056733,
     "user": {
      "displayName": "oni Stephen",
      "photoUrl": "",
      "userId": "03308598618956024543"
     },
     "user_tz": -60
    },
    "id": "N5cSPnWEqZfC",
    "outputId": "4d707378-f14b-4a07-a256-7b57543ac5c1"
   },
   "outputs": [
    {
     "name": "stdout",
     "output_type": "stream",
     "text": [
      "please check your dm and respond i\n",
      "please check your dm xxbos your own\n"
     ]
    }
   ],
   "source": [
    "print(\"\\n\".join(learn.predict(TEXT, N_WORDS, temperature=0.75) for _ in range(N_SENTENCES)))"
   ]
  },
  {
   "cell_type": "code",
   "execution_count": null,
   "metadata": {
    "colab": {},
    "colab_type": "code",
    "id": "3VRrn6OTqeDU"
   },
   "outputs": [],
   "source": [
    "learn.save_encoder('fine_tuned_enc')"
   ]
  },
  {
   "cell_type": "markdown",
   "metadata": {},
   "source": [
    "## Model Classification"
   ]
  },
  {
   "cell_type": "code",
   "execution_count": null,
   "metadata": {
    "colab": {},
    "colab_type": "code",
    "id": "Rhz9rPHLqr1h"
   },
   "outputs": [],
   "source": [
    "split = math.floor((len(df_1) - len(df_1)*0.1))\n",
    "train_df = df_1[:split].reset_index()\n",
    "valid_df = df_1[split:].reset_index()"
   ]
  },
  {
   "cell_type": "code",
   "execution_count": null,
   "metadata": {
    "colab": {},
    "colab_type": "code",
    "id": "GmuGkqF-r54s"
   },
   "outputs": [],
   "source": [
    "mm = {\n",
    "    1:\"pos\",\n",
    "    0:\"neg\"\n",
    "}\n",
    "valid_df[\"label\"] = valid_df[\"sentiment\"].map(mm)\n",
    "train_df[\"label\"] = train_df[\"sentiment\"].map(mm)"
   ]
  },
  {
   "cell_type": "code",
   "execution_count": null,
   "metadata": {
    "colab": {},
    "colab_type": "code",
    "id": "EBDRIFo9rDDz"
   },
   "outputs": [],
   "source": [
    "valid_df.drop([\"index\",\"sentiment\"],axis=1,inplace=True)\n",
    "train_df.drop([\"index\",\"sentiment\"],axis=1,inplace=True)"
   ]
  },
  {
   "cell_type": "code",
   "execution_count": null,
   "metadata": {
    "colab": {},
    "colab_type": "code",
    "id": "_y_mf1gOrHYM"
   },
   "outputs": [],
   "source": [
    "data_clas = (TextList.from_df(df_1,vocab=data_m.vocab,path=path)\n",
    "             .random_split_by_pct(0.1)\n",
    "             .label_from_df(cols=\"label\")\n",
    "             .databunch(bs=bs)\n",
    "            )"
   ]
  },
  {
   "cell_type": "code",
   "execution_count": null,
   "metadata": {
    "colab": {},
    "colab_type": "code",
    "id": "Bu8ez1uNsX_b"
   },
   "outputs": [],
   "source": [
    "data_clas.save('data_clas.pkl')\n"
   ]
  },
  {
   "cell_type": "code",
   "execution_count": 60,
   "metadata": {
    "colab": {
     "base_uri": "https://localhost:8080/",
     "height": 34
    },
    "colab_type": "code",
    "executionInfo": {
     "elapsed": 2031,
     "status": "ok",
     "timestamp": 1555891153237,
     "user": {
      "displayName": "oni Stephen",
      "photoUrl": "",
      "userId": "03308598618956024543"
     },
     "user_tz": -60
    },
    "id": "K9-mLMyKsd-P",
    "outputId": "98f6db42-551e-4a8c-89d7-bea879b0e679"
   },
   "outputs": [
    {
     "data": {
      "text/plain": [
       "PosixPath('drive/bank-sentiment')"
      ]
     },
     "execution_count": 60,
     "metadata": {
      "tags": []
     },
     "output_type": "execute_result"
    }
   ],
   "source": [
    "data_clas.path"
   ]
  },
  {
   "cell_type": "code",
   "execution_count": null,
   "metadata": {
    "colab": {},
    "colab_type": "code",
    "id": "BWZxritasPIq"
   },
   "outputs": [],
   "source": [
    "data_clas = load_data(path, 'data_clas.pkl', bs=bs)"
   ]
  },
  {
   "cell_type": "code",
   "execution_count": 62,
   "metadata": {
    "colab": {
     "base_uri": "https://localhost:8080/",
     "height": 204
    },
    "colab_type": "code",
    "executionInfo": {
     "elapsed": 2138,
     "status": "ok",
     "timestamp": 1555891278963,
     "user": {
      "displayName": "oni Stephen",
      "photoUrl": "",
      "userId": "03308598618956024543"
     },
     "user_tz": -60
    },
    "id": "Yl0Ks9ybsUgQ",
    "outputId": "6c12d4f8-506c-47e3-88d4-ef3601cdad75"
   },
   "outputs": [
    {
     "data": {
      "text/html": [
       "<table border=\"1\" class=\"dataframe\">\n",
       "  <thead>\n",
       "    <tr style=\"text-align: right;\">\n",
       "      <th>text</th>\n",
       "      <th>target</th>\n",
       "    </tr>\n",
       "  </thead>\n",
       "  <tbody>\n",
       "    <tr>\n",
       "      <td>xxbos please note that i do nt need the session i d but the receipt i can print out so i can xxunk to the school as proof of evidence</td>\n",
       "      <td>neg</td>\n",
       "    </tr>\n",
       "    <tr>\n",
       "      <td>xxbos your acct xxunk xxrep 4 x xxunk has been debited with ngn2 xxrep 4 0 on xxunk 18 xxunk xxunk by qs894 1013 xxrep 4 0 xxunk</td>\n",
       "      <td>pos</td>\n",
       "    </tr>\n",
       "    <tr>\n",
       "      <td>xxbos the transaction was done twice 1 xxrep 4 0 each total of 2 xxrep 4 0 and 1 xxrep 4 0 has been reversed while the xxunk</td>\n",
       "      <td>pos</td>\n",
       "    </tr>\n",
       "    <tr>\n",
       "      <td>xxbos good day i used my first bank card in first atm and it debited me and did nt give me the money reversed the money back thanks</td>\n",
       "      <td>pos</td>\n",
       "    </tr>\n",
       "    <tr>\n",
       "      <td>xxbos if i ca nt be able to enjoy my so called bank service so what do i gain to mail gtb to confirm my 9000 th</td>\n",
       "      <td>pos</td>\n",
       "    </tr>\n",
       "  </tbody>\n",
       "</table>"
      ],
      "text/plain": [
       "<IPython.core.display.HTML object>"
      ]
     },
     "metadata": {
      "tags": []
     },
     "output_type": "display_data"
    }
   ],
   "source": [
    "data_clas.show_batch()"
   ]
  },
  {
   "cell_type": "markdown",
   "metadata": {},
   "source": [
    "And since we've created a pretrained language model for the data, load it weight to the new defined architecture and used it for classification"
   ]
  },
  {
   "cell_type": "code",
   "execution_count": null,
   "metadata": {
    "colab": {},
    "colab_type": "code",
    "id": "erxkQrpYsqvk"
   },
   "outputs": [],
   "source": [
    "learn = text_classifier_learner(data_clas, AWD_LSTM, drop_mult=0.5)\n",
    "learn.load_encoder('fine_tuned_enc')"
   ]
  },
  {
   "cell_type": "code",
   "execution_count": 64,
   "metadata": {
    "colab": {
     "base_uri": "https://localhost:8080/",
     "height": 34
    },
    "colab_type": "code",
    "executionInfo": {
     "elapsed": 14077,
     "status": "ok",
     "timestamp": 1555891323970,
     "user": {
      "displayName": "oni Stephen",
      "photoUrl": "",
      "userId": "03308598618956024543"
     },
     "user_tz": -60
    },
    "id": "DK8VAzO6s8fT",
    "outputId": "80a042ca-6d4a-4af3-f842-bb465bddba94"
   },
   "outputs": [
    {
     "data": {
      "text/html": [],
      "text/plain": [
       "<IPython.core.display.HTML object>"
      ]
     },
     "metadata": {
      "tags": []
     },
     "output_type": "display_data"
    },
    {
     "name": "stdout",
     "output_type": "stream",
     "text": [
      "LR Finder is complete, type {learner_name}.recorder.plot() to see the graph.\n"
     ]
    }
   ],
   "source": [
    "learn.lr_find()"
   ]
  },
  {
   "cell_type": "code",
   "execution_count": 65,
   "metadata": {
    "colab": {
     "base_uri": "https://localhost:8080/",
     "height": 283
    },
    "colab_type": "code",
    "executionInfo": {
     "elapsed": 1509,
     "status": "ok",
     "timestamp": 1555891340628,
     "user": {
      "displayName": "oni Stephen",
      "photoUrl": "",
      "userId": "03308598618956024543"
     },
     "user_tz": -60
    },
    "id": "yBtLU68ytA2p",
    "outputId": "ce51aaf0-190d-4ba3-f4c2-9290b726433f"
   },
   "outputs": [
    {
     "data": {
      "image/png": "[encoded data removed]",
      "text/plain": [
       "<Figure size 432x288 with 1 Axes>"
      ]
     },
     "metadata": {
      "tags": []
     },
     "output_type": "display_data"
    }
   ],
   "source": [
    "learn.recorder.plot()"
   ]
  },
  {
   "cell_type": "code",
   "execution_count": 66,
   "metadata": {
    "colab": {
     "base_uri": "https://localhost:8080/",
     "height": 142
    },
    "colab_type": "code",
    "executionInfo": {
     "elapsed": 18143,
     "status": "ok",
     "timestamp": 1555891396341,
     "user": {
      "displayName": "oni Stephen",
      "photoUrl": "",
      "userId": "03308598618956024543"
     },
     "user_tz": -60
    },
    "id": "couIkti5tIkx",
    "outputId": "9fe78539-25b2-438e-b23f-ae4c99b662a6"
   },
   "outputs": [
    {
     "data": {
      "text/html": [
       "<table border=\"1\" class=\"dataframe\">\n",
       "  <thead>\n",
       "    <tr style=\"text-align: left;\">\n",
       "      <th>epoch</th>\n",
       "      <th>train_loss</th>\n",
       "      <th>valid_loss</th>\n",
       "      <th>accuracy</th>\n",
       "      <th>time</th>\n",
       "    </tr>\n",
       "  </thead>\n",
       "  <tbody>\n",
       "    <tr>\n",
       "      <td>0</td>\n",
       "      <td>0.600698</td>\n",
       "      <td>0.570455</td>\n",
       "      <td>0.732977</td>\n",
       "      <td>00:05</td>\n",
       "    </tr>\n",
       "    <tr>\n",
       "      <td>1</td>\n",
       "      <td>0.564923</td>\n",
       "      <td>0.453818</td>\n",
       "      <td>0.787717</td>\n",
       "      <td>00:05</td>\n",
       "    </tr>\n",
       "    <tr>\n",
       "      <td>2</td>\n",
       "      <td>0.539178</td>\n",
       "      <td>0.387338</td>\n",
       "      <td>0.837116</td>\n",
       "      <td>00:05</td>\n",
       "    </tr>\n",
       "  </tbody>\n",
       "</table>"
      ],
      "text/plain": [
       "<IPython.core.display.HTML object>"
      ]
     },
     "metadata": {
      "tags": []
     },
     "output_type": "display_data"
    }
   ],
   "source": [
    "learn.fit_one_cycle(3, max_lr=slice(1e-4,1e-1), moms=(0.8,0.7))"
   ]
  },
  {
   "cell_type": "code",
   "execution_count": null,
   "metadata": {
    "colab": {},
    "colab_type": "code",
    "id": "4lHd-enhtZ6S"
   },
   "outputs": [],
   "source": [
    "learn.save('first')"
   ]
  },
  {
   "cell_type": "code",
   "execution_count": null,
   "metadata": {
    "colab": {},
    "colab_type": "code",
    "id": "l6cgSdu3tjvu"
   },
   "outputs": [],
   "source": [
    "learn.load('first');"
   ]
  },
  {
   "cell_type": "markdown",
   "metadata": {},
   "source": [
    "### Gradual freezing\n",
    "the last method is the gradual freezing. in image model it is easier to unfreeze out once, but in language model and rnn we need to do the gradually so we wont loose information"
   ]
  },
  {
   "cell_type": "code",
   "execution_count": 81,
   "metadata": {
    "colab": {
     "base_uri": "https://localhost:8080/",
     "height": 111
    },
    "colab_type": "code",
    "executionInfo": {
     "elapsed": 13690,
     "status": "ok",
     "timestamp": 1555891889002,
     "user": {
      "displayName": "oni Stephen",
      "photoUrl": "",
      "userId": "03308598618956024543"
     },
     "user_tz": -60
    },
    "id": "etwFp2getn05",
    "outputId": "2efd7c32-7a6d-4a84-9c73-acc03a82c5df"
   },
   "outputs": [
    {
     "data": {
      "text/html": [
       "<table border=\"1\" class=\"dataframe\">\n",
       "  <thead>\n",
       "    <tr style=\"text-align: left;\">\n",
       "      <th>epoch</th>\n",
       "      <th>train_loss</th>\n",
       "      <th>valid_loss</th>\n",
       "      <th>accuracy</th>\n",
       "      <th>time</th>\n",
       "    </tr>\n",
       "  </thead>\n",
       "  <tbody>\n",
       "    <tr>\n",
       "      <td>0</td>\n",
       "      <td>0.523534</td>\n",
       "      <td>0.460183</td>\n",
       "      <td>0.783712</td>\n",
       "      <td>00:06</td>\n",
       "    </tr>\n",
       "    <tr>\n",
       "      <td>1</td>\n",
       "      <td>0.453589</td>\n",
       "      <td>0.381261</td>\n",
       "      <td>0.838451</td>\n",
       "      <td>00:06</td>\n",
       "    </tr>\n",
       "  </tbody>\n",
       "</table>"
      ],
      "text/plain": [
       "<IPython.core.display.HTML object>"
      ]
     },
     "metadata": {
      "tags": []
     },
     "output_type": "display_data"
    }
   ],
   "source": [
    "learn.freeze_to(-2)\n",
    "learn.fit_one_cycle(2, slice(4e-2/(2.6**4),4e-2), moms=(0.8,0.7))"
   ]
  },
  {
   "cell_type": "code",
   "execution_count": null,
   "metadata": {
    "colab": {},
    "colab_type": "code",
    "id": "DZNVw4RHttSY"
   },
   "outputs": [],
   "source": [
    "learn.save('second')"
   ]
  },
  {
   "cell_type": "code",
   "execution_count": null,
   "metadata": {
    "colab": {},
    "colab_type": "code",
    "id": "AgTq3uyStzLG"
   },
   "outputs": [],
   "source": [
    "learn.load('second');"
   ]
  },
  {
   "cell_type": "code",
   "execution_count": 86,
   "metadata": {
    "colab": {
     "base_uri": "https://localhost:8080/",
     "height": 300
    },
    "colab_type": "code",
    "executionInfo": {
     "elapsed": 34035,
     "status": "ok",
     "timestamp": 1555892075615,
     "user": {
      "displayName": "oni Stephen",
      "photoUrl": "",
      "userId": "03308598618956024543"
     },
     "user_tz": -60
    },
    "id": "XwB2iBn9Y0m6",
    "outputId": "fa23a62f-97a9-4ea0-c946-336c9c068feb"
   },
   "outputs": [
    {
     "data": {
      "text/html": [],
      "text/plain": [
       "<IPython.core.display.HTML object>"
      ]
     },
     "metadata": {
      "tags": []
     },
     "output_type": "display_data"
    },
    {
     "name": "stdout",
     "output_type": "stream",
     "text": [
      "LR Finder is complete, type {learner_name}.recorder.plot() to see the graph.\n"
     ]
    },
    {
     "data": {
      "image/png": "[encoded data removed]",
      "text/plain": [
       "<Figure size 432x288 with 1 Axes>"
      ]
     },
     "metadata": {
      "tags": []
     },
     "output_type": "display_data"
    }
   ],
   "source": [
    "learn.freeze_to(-3)\n",
    "learn.lr_find()\n",
    "learn.recorder.plot()"
   ]
  },
  {
   "cell_type": "code",
   "execution_count": 91,
   "metadata": {
    "colab": {
     "base_uri": "https://localhost:8080/",
     "height": 111
    },
    "colab_type": "code",
    "executionInfo": {
     "elapsed": 21699,
     "status": "ok",
     "timestamp": 1555892254173,
     "user": {
      "displayName": "oni Stephen",
      "photoUrl": "",
      "userId": "03308598618956024543"
     },
     "user_tz": -60
    },
    "id": "Voleka3dt19W",
    "outputId": "6e766685-ea00-445f-8949-94ac12805e24"
   },
   "outputs": [
    {
     "data": {
      "text/html": [
       "<table border=\"1\" class=\"dataframe\">\n",
       "  <thead>\n",
       "    <tr style=\"text-align: left;\">\n",
       "      <th>epoch</th>\n",
       "      <th>train_loss</th>\n",
       "      <th>valid_loss</th>\n",
       "      <th>accuracy</th>\n",
       "      <th>time</th>\n",
       "    </tr>\n",
       "  </thead>\n",
       "  <tbody>\n",
       "    <tr>\n",
       "      <td>0</td>\n",
       "      <td>0.418526</td>\n",
       "      <td>0.379893</td>\n",
       "      <td>0.841122</td>\n",
       "      <td>00:09</td>\n",
       "    </tr>\n",
       "    <tr>\n",
       "      <td>1</td>\n",
       "      <td>0.413469</td>\n",
       "      <td>0.364953</td>\n",
       "      <td>0.841122</td>\n",
       "      <td>00:09</td>\n",
       "    </tr>\n",
       "  </tbody>\n",
       "</table>"
      ],
      "text/plain": [
       "<IPython.core.display.HTML object>"
      ]
     },
     "metadata": {
      "tags": []
     },
     "output_type": "display_data"
    }
   ],
   "source": [
    "learn.freeze_to(-3)\n",
    "learn.fit_one_cycle(2, slice(5e-3/(2.6**4),5e-3), moms=(0.8,0.7))"
   ]
  },
  {
   "cell_type": "code",
   "execution_count": null,
   "metadata": {
    "colab": {},
    "colab_type": "code",
    "id": "--EJo4-Ct6-Z"
   },
   "outputs": [],
   "source": [
    "learn.save('third')"
   ]
  },
  {
   "cell_type": "code",
   "execution_count": null,
   "metadata": {
    "colab": {},
    "colab_type": "code",
    "id": "ixNCy9i9uFLA"
   },
   "outputs": [],
   "source": [
    "learn.load('third');"
   ]
  },
  {
   "cell_type": "code",
   "execution_count": 99,
   "metadata": {
    "colab": {
     "base_uri": "https://localhost:8080/",
     "height": 80
    },
    "colab_type": "code",
    "executionInfo": {
     "elapsed": 20261,
     "status": "ok",
     "timestamp": 1555895914360,
     "user": {
      "displayName": "oni Stephen",
      "photoUrl": "",
      "userId": "03308598618956024543"
     },
     "user_tz": -60
    },
    "id": "Zsd6xHSouH2m",
    "outputId": "83894b11-2632-4f6a-c2a9-e3b29d505d26"
   },
   "outputs": [
    {
     "data": {
      "text/html": [
       "<table border=\"1\" class=\"dataframe\">\n",
       "  <thead>\n",
       "    <tr style=\"text-align: left;\">\n",
       "      <th>epoch</th>\n",
       "      <th>train_loss</th>\n",
       "      <th>valid_loss</th>\n",
       "      <th>accuracy</th>\n",
       "      <th>time</th>\n",
       "    </tr>\n",
       "  </thead>\n",
       "  <tbody>\n",
       "    <tr>\n",
       "      <td>0</td>\n",
       "      <td>0.378544</td>\n",
       "      <td>0.355114</td>\n",
       "      <td>0.843792</td>\n",
       "      <td>00:12</td>\n",
       "    </tr>\n",
       "  </tbody>\n",
       "</table>"
      ],
      "text/plain": [
       "<IPython.core.display.HTML object>"
      ]
     },
     "metadata": {
      "tags": []
     },
     "output_type": "display_data"
    }
   ],
   "source": [
    "learn.unfreeze()\n",
    "learn.fit_one_cycle(1, slice(4e-3/(2.6**4),4e-3), moms=(0.8,0.7))"
   ]
  },
  {
   "cell_type": "markdown",
   "metadata": {},
   "source": [
    "### The final model accuracy is 84% on a very small dataset <7k"
   ]
  },
  {
   "cell_type": "code",
   "execution_count": null,
   "metadata": {
    "colab": {},
    "colab_type": "code",
    "id": "Bktwi6vLn6QI"
   },
   "outputs": [],
   "source": [
    "learn.save(\"final\")"
   ]
  },
  {
   "cell_type": "code",
   "execution_count": 102,
   "metadata": {
    "colab": {
     "base_uri": "https://localhost:8080/",
     "height": 34
    },
    "colab_type": "code",
    "executionInfo": {
     "elapsed": 11419,
     "status": "ok",
     "timestamp": 1555896224473,
     "user": {
      "displayName": "oni Stephen",
      "photoUrl": "",
      "userId": "03308598618956024543"
     },
     "user_tz": -60
    },
    "id": "bHJd3rTFuUEo",
    "outputId": "cee401b3-2d5f-4f62-a7c1-ca272ffd7bc8"
   },
   "outputs": [
    {
     "data": {
      "text/plain": [
       "(Category pos, tensor(1), tensor([0.0657, 0.9343]))"
      ]
     },
     "execution_count": 102,
     "metadata": {
      "tags": []
     },
     "output_type": "execute_result"
    }
   ],
   "source": [
    "learn.predict(df_1.iloc[5,0])"
   ]
  },
  {
   "cell_type": "code",
   "execution_count": null,
   "metadata": {
    "colab": {
     "base_uri": "https://localhost:8080/",
     "height": 34
    },
    "colab_type": "code",
    "executionInfo": {
     "elapsed": 1792,
     "status": "ok",
     "timestamp": 1555209906334,
     "user": {
      "displayName": "oni Stephen",
      "photoUrl": "",
      "userId": "03308598618956024543"
     },
     "user_tz": -60
    },
    "id": "0zXoctmTuoIO",
    "outputId": "30e755d2-7a16-4990-f880-f76b021bbe7a"
   },
   "outputs": [
    {
     "data": {
      "text/plain": [
       "'pos'"
      ]
     },
     "execution_count": 167,
     "metadata": {
      "tags": []
     },
     "output_type": "execute_result"
    }
   ],
   "source": [
    "valid_df.iloc[5,1]"
   ]
  },
  {
   "cell_type": "code",
   "execution_count": null,
   "metadata": {
    "colab": {
     "base_uri": "https://localhost:8080/",
     "height": 54
    },
    "colab_type": "code",
    "executionInfo": {
     "elapsed": 2283,
     "status": "ok",
     "timestamp": 1555209868521,
     "user": {
      "displayName": "oni Stephen",
      "photoUrl": "",
      "userId": "03308598618956024543"
     },
     "user_tz": -60
    },
    "id": "voZ-9NpAutDS",
    "outputId": "90999783-ca03-4f23-d9ae-ed17c64fc567"
   },
   "outputs": [
    {
     "data": {
      "text/plain": [
       "'our  workshop didnt have as many attendees as the last year we did it but these ones are from the  of'"
      ]
     },
     "execution_count": 165,
     "metadata": {
      "tags": []
     },
     "output_type": "execute_result"
    }
   ],
   "source": [
    "valid_df.iloc[0,0]"
   ]
  },
  {
   "cell_type": "code",
   "execution_count": null,
   "metadata": {
    "colab": {},
    "colab_type": "code",
    "id": "7X1Yy9eeu0uG"
   },
   "outputs": [],
   "source": [
    "learn.save(\"final\")"
   ]
  },
  {
   "cell_type": "markdown",
   "metadata": {},
   "source": [
    "## Inference"
   ]
  },
  {
   "cell_type": "code",
   "execution_count": null,
   "metadata": {
    "colab": {},
    "colab_type": "code",
    "id": "tXq5Vn6PvIqn"
   },
   "outputs": [],
   "source": [
    "mm = text_classifier_learner(data_clas, AWD_LSTM, drop_mult=0.5)"
   ]
  },
  {
   "cell_type": "code",
   "execution_count": null,
   "metadata": {
    "colab": {},
    "colab_type": "code",
    "id": "H2iqZ3orvXSt"
   },
   "outputs": [],
   "source": [
    "mm.load(\"final\")"
   ]
  },
  {
   "cell_type": "code",
   "execution_count": null,
   "metadata": {
    "colab": {
     "base_uri": "https://localhost:8080/",
     "height": 34
    },
    "colab_type": "code",
    "executionInfo": {
     "elapsed": 1093,
     "status": "ok",
     "timestamp": 1555210078531,
     "user": {
      "displayName": "oni Stephen",
      "photoUrl": "",
      "userId": "03308598618956024543"
     },
     "user_tz": -60
    },
    "id": "MFiLh4IqvaDU",
    "outputId": "e5b1258b-fa2d-4fd9-9131-1c9d8dd413a0"
   },
   "outputs": [
    {
     "data": {
      "text/plain": [
       "(Category pos, tensor(1), tensor([0.2016, 0.7984]))"
      ]
     },
     "execution_count": 171,
     "metadata": {
      "tags": []
     },
     "output_type": "execute_result"
    }
   ],
   "source": [
    "mm.predict(valid_df.iloc[5,0])"
   ]
  },
  {
   "cell_type": "markdown",
   "metadata": {
    "colab_type": "text",
    "id": "WGvNvKK5NTt5"
   },
   "source": [
    "InFerence method"
   ]
  },
  {
   "cell_type": "code",
   "execution_count": null,
   "metadata": {
    "colab": {},
    "colab_type": "code",
    "id": "gekvJo9gvoSU"
   },
   "outputs": [],
   "source": [
    "path=\"drive/bank-sentiment/\""
   ]
  },
  {
   "cell_type": "code",
   "execution_count": null,
   "metadata": {
    "colab": {},
    "colab_type": "code",
    "id": "gsUOhiKeNCB_"
   },
   "outputs": [],
   "source": [
    "bs=30"
   ]
  },
  {
   "cell_type": "code",
   "execution_count": null,
   "metadata": {
    "colab": {},
    "colab_type": "code",
    "id": "5xIESEmhNf7H"
   },
   "outputs": [],
   "source": [
    "defaults.device = torch.device('cpu')"
   ]
  },
  {
   "cell_type": "code",
   "execution_count": null,
   "metadata": {
    "colab": {},
    "colab_type": "code",
    "id": "3zmWvOT-MXxX"
   },
   "outputs": [],
   "source": [
    "data_clas = load_data(path, 'data_clas.pkl', bs=bs)"
   ]
  },
  {
   "cell_type": "code",
   "execution_count": 16,
   "metadata": {
    "colab": {
     "base_uri": "https://localhost:8080/",
     "height": 204
    },
    "colab_type": "code",
    "executionInfo": {
     "elapsed": 1380,
     "status": "ok",
     "timestamp": 1555889010602,
     "user": {
      "displayName": "oni Stephen",
      "photoUrl": "",
      "userId": "03308598618956024543"
     },
     "user_tz": -60
    },
    "id": "-dj9Wp_CMtV4",
    "outputId": "5bddb447-234b-43df-bef6-51e2ec979361"
   },
   "outputs": [
    {
     "data": {
      "text/html": [
       "<table border=\"1\" class=\"dataframe\">\n",
       "  <thead>\n",
       "    <tr style=\"text-align: right;\">\n",
       "      <th>text</th>\n",
       "      <th>target</th>\n",
       "    </tr>\n",
       "  </thead>\n",
       "  <tbody>\n",
       "    <tr>\n",
       "      <td>xxbos please note that i do nt need the session i d but the receipt i can print out so i can xxunk to the school as proof of evidence</td>\n",
       "      <td>neg</td>\n",
       "    </tr>\n",
       "    <tr>\n",
       "      <td>xxbos so in total 3 times failed recharge of 1000 that did nt work but i was debited 1 remaining on the 18 and 2 on the 19</td>\n",
       "      <td>pos</td>\n",
       "    </tr>\n",
       "    <tr>\n",
       "      <td>xxbos your acct xxunk xxrep 4 x xxunk has been debited with ngn2 xxrep 4 0 on xxunk 15 24 57 by qs894 xxunk xxrep 4 0 xxunk</td>\n",
       "      <td>pos</td>\n",
       "    </tr>\n",
       "    <tr>\n",
       "      <td>xxbos no problem take the n200 the time wey i need am una no attend to me i do nt need your hands on my account now xxunk</td>\n",
       "      <td>neg</td>\n",
       "    </tr>\n",
       "    <tr>\n",
       "      <td>xxbos i currently so not have access to my mobile app but i have my number how can i request my bank statement to be sent to me</td>\n",
       "      <td>neg</td>\n",
       "    </tr>\n",
       "  </tbody>\n",
       "</table>"
      ],
      "text/plain": [
       "<IPython.core.display.HTML object>"
      ]
     },
     "metadata": {
      "tags": []
     },
     "output_type": "display_data"
    }
   ],
   "source": [
    "data_clas.show_batch()"
   ]
  },
  {
   "cell_type": "code",
   "execution_count": null,
   "metadata": {
    "colab": {},
    "colab_type": "code",
    "id": "C8faFpTENMXj"
   },
   "outputs": [],
   "source": [
    "learn = text_classifier_learner(data_clas, AWD_LSTM, drop_mult=0.5)\n",
    "learn.load_encoder('fine_tuned_enc')"
   ]
  },
  {
   "cell_type": "code",
   "execution_count": null,
   "metadata": {
    "colab": {},
    "colab_type": "code",
    "id": "6Gb861tzNrt9"
   },
   "outputs": [],
   "source": [
    "learn.load(\"final\")"
   ]
  },
  {
   "cell_type": "code",
   "execution_count": 23,
   "metadata": {
    "colab": {
     "base_uri": "https://localhost:8080/",
     "height": 34
    },
    "colab_type": "code",
    "executionInfo": {
     "elapsed": 1240,
     "status": "ok",
     "timestamp": 1555889610199,
     "user": {
      "displayName": "oni Stephen",
      "photoUrl": "",
      "userId": "03308598618956024543"
     },
     "user_tz": -60
    },
    "id": "A6e8RT2NN1i0",
    "outputId": "35e7b975-a7cc-4c90-d113-d5c7a253d79c"
   },
   "outputs": [
    {
     "data": {
      "text/plain": [
       "(Category neg, tensor(0), tensor([0.5276, 0.4724]))"
      ]
     },
     "execution_count": 23,
     "metadata": {
      "tags": []
     },
     "output_type": "execute_result"
    }
   ],
   "source": [
    "learn.predict('ok i understand and i also have some questions to ask about an account my dad opened for me and my sibli')"
   ]
  },
  {
   "cell_type": "code",
   "execution_count": null,
   "metadata": {
    "colab": {},
    "colab_type": "code",
    "id": "_4r6I_3dOSY_"
   },
   "outputs": [],
   "source": []
  }
 ],
 "metadata": {
  "accelerator": "GPU",
  "colab": {
   "name": "bank.ipynb",
   "provenance": [],
   "version": "0.3.2"
  },
  "kernelspec": {
   "display_name": "Python 2",
   "language": "python",
   "name": "python2"
  },
  "language_info": {
   "codemirror_mode": {
    "name": "ipython",
    "version": 2
   },
   "file_extension": ".py",
   "mimetype": "text/x-python",
   "name": "python",
   "nbconvert_exporter": "python",
   "pygments_lexer": "ipython2",
   "version": "2.7.15"
  }
 },
 "nbformat": 4,
 "nbformat_minor": 2
}

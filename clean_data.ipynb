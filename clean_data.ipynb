{
 "cells": [
  {
   "cell_type": "markdown",
   "metadata": {},
   "source": [
    "### Clean The Tweet Data\n",
    "After the data has being obtained they are grouped into a folder `clean` and from the folder they are being obtained, and passed through the process of removing the unwanted links , retweet key word , removing the `@` keywords"
   ]
  },
  {
   "cell_type": "code",
   "execution_count": 1,
   "metadata": {},
   "outputs": [],
   "source": [
    "import pandas as pd\n",
    "import numpy as np\n",
    "import re\n",
    "import string\n",
    "from unicodedata import normalize"
   ]
  },
  {
   "cell_type": "code",
   "execution_count": 3,
   "metadata": {},
   "outputs": [],
   "source": [
    "banks_name = ['OneFiCo',\n",
    "              'eTranzactPLC',\n",
    " 'keystonebankng',\n",
    " ' AbbeyMortgage',\n",
    " 'moneyboxteam',\n",
    " 'KongaPay',\n",
    " 'JaizBankNG',\n",
    " 'MyFCMB',\n",
    " 'ecobank_nigeria',\n",
    " 'Sterling_Bankng',\n",
    " 'bainescredit',\n",
    " 'theflutterwave',\n",
    " 'brentmortgage',\n",
    " 'LAPO_MFB',\n",
    " 'myaccessbank',\n",
    " 'FBN_help',\n",
    " 'SunTrustNG',\n",
    " 'heritagebankltd',\n",
    " 'cenbank',\n",
    " 'StanbicIBTC',\n",
    " 'UnityBankPlc',\n",
    " 'ProvidusBank',\n",
    " 'mypaga',\n",
    " 'fcmbpensions',\n",
    " 'FBNQuest',\n",
    " ' Cellulant',\n",
    " 'FSDHCoralFunds',\n",
    " 'AccionMfb']"
   ]
  },
  {
   "cell_type": "code",
   "execution_count": 5,
   "metadata": {},
   "outputs": [
    {
     "data": {
      "text/plain": [
       "['clean/OneFiCo.csv',\n",
       " 'clean/eTranzactPLC.csv',\n",
       " 'clean/keystonebankng.csv',\n",
       " 'clean/ AbbeyMortgage.csv',\n",
       " 'clean/moneyboxteam.csv',\n",
       " 'clean/KongaPay.csv',\n",
       " 'clean/JaizBankNG.csv',\n",
       " 'clean/MyFCMB.csv',\n",
       " 'clean/ecobank_nigeria.csv',\n",
       " 'clean/Sterling_Bankng.csv',\n",
       " 'clean/bainescredit.csv',\n",
       " 'clean/theflutterwave.csv',\n",
       " 'clean/brentmortgage.csv',\n",
       " 'clean/LAPO_MFB.csv',\n",
       " 'clean/myaccessbank.csv',\n",
       " 'clean/FBN_help.csv',\n",
       " 'clean/SunTrustNG.csv',\n",
       " 'clean/heritagebankltd.csv',\n",
       " 'clean/cenbank.csv',\n",
       " 'clean/StanbicIBTC.csv',\n",
       " 'clean/UnityBankPlc.csv',\n",
       " 'clean/ProvidusBank.csv',\n",
       " 'clean/mypaga.csv',\n",
       " 'clean/fcmbpensions.csv',\n",
       " 'clean/FBNQuest.csv',\n",
       " 'clean/ Cellulant.csv',\n",
       " 'clean/FSDHCoralFunds.csv',\n",
       " 'clean/AccionMfb.csv']"
      ]
     },
     "execution_count": 5,
     "metadata": {},
     "output_type": "execute_result"
    }
   ],
   "source": [
    "col = [\"clean/\"+csv+\".csv\" for csv in banks_name] ## make a list of the tweet data\n",
    "col"
   ]
  },
  {
   "cell_type": "code",
   "execution_count": null,
   "metadata": {},
   "outputs": [],
   "source": []
  },
  {
   "cell_type": "code",
   "execution_count": 31,
   "metadata": {},
   "outputs": [],
   "source": [
    "df = pd.concat([pd.read_csv(csv,lineterminator='\\n') for csv in col],axis=0) ##concatenete the all the data together to form a single dataframe"
   ]
  },
  {
   "cell_type": "code",
   "execution_count": 34,
   "metadata": {},
   "outputs": [
    {
     "data": {
      "text/plain": [
       "7687"
      ]
     },
     "execution_count": 34,
     "metadata": {},
     "output_type": "execute_result"
    }
   ],
   "source": [
    "len(df)"
   ]
  },
  {
   "cell_type": "code",
   "execution_count": 36,
   "metadata": {},
   "outputs": [],
   "source": [
    "data = df.reset_index()"
   ]
  },
  {
   "cell_type": "code",
   "execution_count": 39,
   "metadata": {},
   "outputs": [],
   "source": [
    "data.drop(\"index\",axis=1,inplace=True)"
   ]
  },
  {
   "cell_type": "code",
   "execution_count": 41,
   "metadata": {},
   "outputs": [],
   "source": [
    "data.to_csv(\"clean/all_data.csv\",index=False)"
   ]
  },
  {
   "cell_type": "code",
   "execution_count": 36,
   "metadata": {},
   "outputs": [],
   "source": [
    "## remove uneccesory text\n",
    "def clean_tweet(tweet):\n",
    "#     tweet = normalize('NFD', tweet).encode('ascii', 'ignore')\n",
    "    tweet = str(tweet)\n",
    "    tweet = re.sub('(RT\\s(@\\w+))', '', tweet)\n",
    "    tweet = re.sub('@\\\\w+', '', tweet)\n",
    "   \n",
    "    tweet = re.sub('((http|https):(\\S+))', '', tweet)\n",
    "    tweet = re.sub('[!#?:*%$]', ' ', tweet)\n",
    "    tweet = re.sub('[^\\s\\w+]', '', tweet)\n",
    "    tweet = re.sub('[\\n]', '', tweet)\n",
    "    tweet = tweet.lower().strip()\n",
    "    return tweet\n",
    "    "
   ]
  },
  {
   "cell_type": "code",
   "execution_count": 37,
   "metadata": {},
   "outputs": [
    {
     "name": "stdout",
     "output_type": "stream",
     "text": [
      "OneFiCo\n",
      "eTranzactPLC\n",
      "keystonebankng\n",
      " AbbeyMortgage\n",
      "moneyboxteam\n",
      "KongaPay\n",
      "JaizBankNG\n",
      "MyFCMB\n",
      "ecobank_nigeria\n",
      "Sterling_Bankng\n",
      "bainescredit\n",
      "theflutterwave\n",
      "brentmortgage\n",
      "LAPO_MFB\n",
      "myaccessbank\n",
      "FBN_help\n",
      "SunTrustNG\n",
      "heritagebankltd\n",
      "cenbank\n",
      "StanbicIBTC\n",
      "UnityBankPlc\n",
      "ProvidusBank\n",
      "mypaga\n",
      "fcmbpensions\n",
      "FBNQuest\n",
      " Cellulant\n",
      "FSDHCoralFunds\n",
      "AccionMfb\n"
     ]
    }
   ],
   "source": [
    "for name in banks_name:\n",
    "    \n",
    "    name = re.sub('@', '', name)\n",
    "    print(name)\n",
    "    df = pd.read_csv(\"clean/\"+name+\".csv\",lineterminator='\\n')\n",
    "    \n",
    "    data = df[\"description\"]\n",
    "    \n",
    "    n_tweet = [clean_tweet(tweet) for tweet in list(data)]\n",
    "    \n",
    "    df[\"description\"] = n_tweet\n",
    "    \n",
    "    df.to_csv(\"clean/\"+name+\".csv\",index=False,encoding='utf-8')\n",
    "    "
   ]
  },
  {
   "cell_type": "code",
   "execution_count": null,
   "metadata": {},
   "outputs": [],
   "source": []
  }
 ],
 "metadata": {
  "kernelspec": {
   "display_name": "Python 3",
   "language": "python",
   "name": "python3"
  },
  "language_info": {
   "codemirror_mode": {
    "name": "ipython",
    "version": 3
   },
   "file_extension": ".py",
   "mimetype": "text/x-python",
   "name": "python",
   "nbconvert_exporter": "python",
   "pygments_lexer": "ipython3",
   "version": "3.7.3"
  }
 },
 "nbformat": 4,
 "nbformat_minor": 2
}

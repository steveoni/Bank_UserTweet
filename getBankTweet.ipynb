{
 "cells": [
  {
   "cell_type": "markdown",
   "metadata": {},
   "source": [
    "## Obtain Tweet from twitter using Tweepy"
   ]
  },
  {
   "cell_type": "code",
   "execution_count": 1,
   "metadata": {},
   "outputs": [],
   "source": [
    "import tweepy\n",
    "import pandas as pd\n",
    "import re"
   ]
  },
  {
   "cell_type": "code",
   "execution_count": 4,
   "metadata": {},
   "outputs": [],
   "source": [
    "\n",
    " \n",
    "# Consumer keys and access tokens, used for OAuth\n",
    "consumer_key = ''\n",
    "consumer_secret = ''\n",
    "access_token = ''\n",
    "access_token_secret = ''\n",
    " \n",
    "# OAuth process, using the keys and tokens\n",
    "auth = tweepy.OAuthHandler(consumer_key, consumer_secret)\n",
    "auth.set_access_token(access_token, access_token_secret)\n",
    " \n",
    "# Creation of the actual interface, using authentication\n",
    "api = tweepy.API(auth)\n",
    " \n"
   ]
  },
  {
   "cell_type": "code",
   "execution_count": 59,
   "metadata": {},
   "outputs": [],
   "source": [
    "## write out the list of banks to obtain user tweet\n",
    "# d = []\n",
    "# n = []\n",
    "banks_name = [\"@StanbicIBTC\",\"@Sterling_Bankng\",\"@teasymobile\",\"@SunTrustNG\",\"@TrustBondPlc\",\"@UnityBankPlc\",\\\n",
    "             \"@veritemfb\",\"@ParallexMFB\",\"@PecanTrustBank\",\"@bank_petra\",\"@ProvidusBank\",\"@MfbRegent\",\"@Safetrust_ltd\",\"@SCMfB_Lagos\",\"@MicrovisMFBank\",\\\n",
    "             \"@MutualTrustMfb\",\"@new_prudential\",\"@OneFiCo\",\"@mypaga\",\"@moneyboxteam\",\"@innovectives\",\"@JaizBankNG\",\\\n",
    "             \"@JubileelifeMB\",\"@KongaPay\",\"@keystonebankng\",\"@LAPO_MFB\",\"@MfbHASAL\",\"@heritagebankltd\",\\\n",
    "             \"@ImperialHomesMB\",\"@MyFCMB\",\"@fcmbpensions\",\"@FBNQuest\",\"@finatrustmfb\",\"@FBN_help\",\"@fortismfbplc\",\\\n",
    "              \"@theflutterwave\",\"@FSDHCoralFunds\",\"@gatewayPMB\",\"@GOWANSMFB\",\"@Haggai_Bank\",\"@consumermfb\",\"@Consumer_mfb\",\\\n",
    "             \"@CA_Mfb\",\"@creditafrique\",\"@EkondoMFB\",\"@ecobank_nigeria\",\"@eTranzactPLC\",\" @fbnmortgagesltd\",\" @AbbeyMortgage\",\\\n",
    "             \"@myaccessbank\",\"@cemcsmfb\",\"@brentmortgage\",\"@boctrustmfb\",\"@bainescredit\",\"@ASO_SAVINGS\",\"@agmortgagebank\",\\\n",
    "             \"@AccionMfb\",\" @Cellulant\",\"@cenbank\"]"
   ]
  },
  {
   "cell_type": "markdown",
   "metadata": {},
   "source": [
    "### Fetch each of the tweet base on the bank username and filter out the retweet"
   ]
  },
  {
   "cell_type": "code",
   "execution_count": 63,
   "metadata": {},
   "outputs": [
    {
     "name": "stdout",
     "output_type": "stream",
     "text": [
      "@StanbicIBTC\n",
      "@Sterling_Bankng\n",
      "@teasymobile\n",
      "@SunTrustNG\n",
      "@TrustBondPlc\n",
      "@UnityBankPlc\n",
      "@veritemfb\n",
      "@ParallexMFB\n",
      "@PecanTrustBank\n",
      "@bank_petra\n",
      "@ProvidusBank\n",
      "@MfbRegent\n",
      "@Safetrust_ltd\n",
      "@SCMfB_Lagos\n",
      "@MicrovisMFBank\n",
      "@MutualTrustMfb\n",
      "@new_prudential\n",
      "@OneFiCo\n",
      "@mypaga\n",
      "@moneyboxteam\n",
      "@innovectives\n",
      "@JaizBankNG\n",
      "@JubileelifeMB\n",
      "@KongaPay\n",
      "@keystonebankng\n",
      "@LAPO_MFB\n",
      "@MfbHASAL\n",
      "@heritagebankltd\n",
      "@ImperialHomesMB\n",
      "@MyFCMB\n",
      "@fcmbpensions\n",
      "@FBNQuest\n",
      "@finatrustmfb\n",
      "@FBN_help\n",
      "@fortismfbplc\n",
      "@theflutterwave\n",
      "@FSDHCoralFunds\n",
      "@gatewayPMB\n",
      "@GOWANSMFB\n",
      "@Haggai_Bank\n",
      "@consumermfb\n",
      "@Consumer_mfb\n",
      "@CA_Mfb\n",
      "@creditafrique\n",
      "@EkondoMFB\n",
      "@ecobank_nigeria\n",
      "@eTranzactPLC\n",
      " @fbnmortgagesltd\n",
      " @AbbeyMortgage\n",
      "@myaccessbank\n",
      "@cemcsmfb\n",
      "@brentmortgage\n",
      "@boctrustmfb\n",
      "@bainescredit\n",
      "@ASO_SAVINGS\n",
      "@agmortgagebank\n",
      "@AccionMfb\n",
      " @Cellulant\n",
      "@cenbank\n"
     ]
    }
   ],
   "source": [
    "bank_data = {}\n",
    "\n",
    "for b_n in banks_name:\n",
    "    \n",
    "    print(b_n)\n",
    "    name = re.sub('@', '', b_n)\n",
    "    bank_data[name] = []\n",
    "    for tweet in tweepy.Cursor(api.search,q=b_n+\" -filter:retweets\",count=100,\n",
    "                           lang=\"en\").items():\n",
    "    #     n.append(tweet)\n",
    "        bank_data[name].append((tweet.text,tweet.created_at,tweet.created_at.weekday(),tweet.created_at.hour,tweet.coordinates,tweet.author.screen_name,\\\n",
    "               tweet.author.followers_count,tweet.author.description))"
   ]
  },
  {
   "cell_type": "markdown",
   "metadata": {},
   "source": [
    "Since the tweet data for each bank is compressed in the tweet object, we need to expand to expand it to exract useful information we desire\n",
    "and the function is used if the bank_data is saved in this form:\n",
    "```python\n",
    "for b_n in banks_name:\n",
    "    \n",
    "    print(b_n)\n",
    "    name = re.sub('@', '', b_n)\n",
    "    bank_data[name] = []\n",
    "    for tweet in tweepy.Cursor(api.search,q=b_n+\" -filter:retweets\",count=100,\n",
    "                           lang=\"en\").items():\n",
    "    #     n.append(tweet)\n",
    "        bank_data[name].append(tweet)\n",
    "```"
   ]
  },
  {
   "cell_type": "code",
   "execution_count": 45,
   "metadata": {},
   "outputs": [],
   "source": [
    "def expand(tweet):\n",
    "    return (tweet.text,tweet.created_at,tweet.created_at.weekday(),tweet.created_at.hour,tweet.coordinates,tweet.author.screen_name,\\\n",
    "           tweet.author.followers_count,tweet.author.description)"
   ]
  },
  {
   "cell_type": "code",
   "execution_count": 47,
   "metadata": {},
   "outputs": [],
   "source": [
    "for i in range(len(n)):\n",
    "    data.append(expand(n[i])) "
   ]
  },
  {
   "cell_type": "code",
   "execution_count": 127,
   "metadata": {},
   "outputs": [
    {
     "data": {
      "text/plain": [
       "(u'I write this with so much bitterness in my heart, @UBAGroup @UBAFoundation Is the worst bank on the surface of the Earth.. Tufia!!',\n",
       " datetime.datetime(2019, 2, 28, 15, 52, 1),\n",
       " 3,\n",
       " 15,\n",
       " None,\n",
       " u'adaobi_phillips',\n",
       " 39,\n",
       " u'Lover of music!\\n\\u2648 Aries yeah!\\nCrazy?\\nYeah!')"
      ]
     },
     "execution_count": 127,
     "metadata": {},
     "output_type": "execute_result"
    }
   ],
   "source": [
    "data[40]"
   ]
  },
  {
   "cell_type": "code",
   "execution_count": 76,
   "metadata": {},
   "outputs": [
    {
     "name": "stdout",
     "output_type": "stream",
     "text": [
      "OneFiCo\n",
      "SCMfB_Lagos\n",
      "Safetrust_ltd\n",
      "TrustBondPlc\n",
      "MfbRegent\n",
      "eTranzactPLC\n",
      "Consumer_mfb\n",
      "keystonebankng\n",
      "creditafrique\n",
      " AbbeyMortgage\n",
      "moneyboxteam\n",
      " fbnmortgagesltd\n",
      "KongaPay\n",
      "JaizBankNG\n",
      "ImperialHomesMB\n",
      "MyFCMB\n",
      "veritemfb\n",
      "MfbHASAL\n",
      "ecobank_nigeria\n",
      "Sterling_Bankng\n",
      "bainescredit\n",
      "consumermfb\n",
      "GOWANSMFB\n",
      "theflutterwave\n",
      "brentmortgage\n",
      "teasymobile\n",
      "ASO_SAVINGS\n",
      "finatrustmfb\n",
      "Haggai_Bank\n",
      "LAPO_MFB\n",
      "PecanTrustBank\n",
      "myaccessbank\n",
      "fortismfbplc\n",
      "FBN_help\n",
      "bank_petra\n",
      "gatewayPMB\n",
      "boctrustmfb\n",
      "SunTrustNG\n",
      "heritagebankltd\n",
      "agmortgagebank\n",
      "cenbank\n",
      "JubileelifeMB\n",
      "StanbicIBTC\n",
      "UnityBankPlc\n",
      "MicrovisMFBank\n",
      "ProvidusBank\n",
      "mypaga\n",
      "innovectives\n",
      "EkondoMFB\n",
      "ParallexMFB\n",
      "CA_Mfb\n",
      "fcmbpensions\n",
      "FBNQuest\n",
      "new_prudential\n",
      "MutualTrustMfb\n",
      " Cellulant\n",
      "cemcsmfb\n",
      "FSDHCoralFunds\n",
      "AccionMfb\n"
     ]
    }
   ],
   "source": [
    "## for each of the banks tweet we create a dataframe\n",
    "## and the data frame is saved with the banks name\n",
    "for key, data in bank_data.items():\n",
    "    print(key)\n",
    "    if len(data) > 0:\n",
    "        df = pd.DataFrame([(data[i][0],data[i][1],data[i][2],data[i][3],data[i][4],data[i][5],data[i][6],data[i][7])for i in range(len(data))],columns=[\"text\",\"date\",\"weekday\",\\\n",
    "                                                                                                                                    \"hour\",\"coordinates\",\"screen_name\",\\\n",
    "                                                                                                                                    \"followers\",\"description\"])\n",
    "        df.to_csv(key+\".csv\",index=False,encoding='utf-8')\n",
    "        "
   ]
  }
 ],
 "metadata": {
  "kernelspec": {
   "display_name": "Python 3",
   "language": "python",
   "name": "python3"
  },
  "language_info": {
   "codemirror_mode": {
    "name": "ipython",
    "version": 3
   },
   "file_extension": ".py",
   "mimetype": "text/x-python",
   "name": "python",
   "nbconvert_exporter": "python",
   "pygments_lexer": "ipython3",
   "version": "3.7.3"
  }
 },
 "nbformat": 4,
 "nbformat_minor": 2
}
